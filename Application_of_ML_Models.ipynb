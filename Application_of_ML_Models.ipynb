{
 "cells": [
  {
   "cell_type": "code",
   "execution_count": 1,
   "metadata": {},
   "outputs": [],
   "source": [
    "#Importing the necessary libraries\n",
    "import pandas as pd\n",
    "import numpy as np\n",
    "import nltk\n",
    "from nltk.tokenize import word_tokenize\n",
    "from nltk.corpus import stopwords\n",
    "from string import punctuation\n",
    "import re\n",
    "from bs4 import BeautifulSoup"
   ]
  },
  {
   "cell_type": "code",
   "execution_count": 2,
   "metadata": {},
   "outputs": [],
   "source": [
    "#Importing the dataset\n",
    "raw_data = pd.read_csv('Amazon_Unlocked_Mobile.csv')"
   ]
  },
  {
   "cell_type": "code",
   "execution_count": 3,
   "metadata": {},
   "outputs": [
    {
     "data": {
      "text/html": [
       "<div>\n",
       "<style scoped>\n",
       "    .dataframe tbody tr th:only-of-type {\n",
       "        vertical-align: middle;\n",
       "    }\n",
       "\n",
       "    .dataframe tbody tr th {\n",
       "        vertical-align: top;\n",
       "    }\n",
       "\n",
       "    .dataframe thead th {\n",
       "        text-align: right;\n",
       "    }\n",
       "</style>\n",
       "<table border=\"1\" class=\"dataframe\">\n",
       "  <thead>\n",
       "    <tr style=\"text-align: right;\">\n",
       "      <th></th>\n",
       "      <th>Product Name</th>\n",
       "      <th>Brand Name</th>\n",
       "      <th>Price</th>\n",
       "      <th>Rating</th>\n",
       "      <th>Reviews</th>\n",
       "      <th>Review Votes</th>\n",
       "    </tr>\n",
       "  </thead>\n",
       "  <tbody>\n",
       "    <tr>\n",
       "      <th>0</th>\n",
       "      <td>\"CLEAR CLEAN ESN\" Sprint EPIC 4G Galaxy SPH-D7...</td>\n",
       "      <td>Samsung</td>\n",
       "      <td>199.99</td>\n",
       "      <td>5</td>\n",
       "      <td>I feel so LUCKY to have found this used (phone...</td>\n",
       "      <td>1.0</td>\n",
       "    </tr>\n",
       "    <tr>\n",
       "      <th>1</th>\n",
       "      <td>\"CLEAR CLEAN ESN\" Sprint EPIC 4G Galaxy SPH-D7...</td>\n",
       "      <td>Samsung</td>\n",
       "      <td>199.99</td>\n",
       "      <td>4</td>\n",
       "      <td>nice phone, nice up grade from my pantach revu...</td>\n",
       "      <td>0.0</td>\n",
       "    </tr>\n",
       "    <tr>\n",
       "      <th>2</th>\n",
       "      <td>\"CLEAR CLEAN ESN\" Sprint EPIC 4G Galaxy SPH-D7...</td>\n",
       "      <td>Samsung</td>\n",
       "      <td>199.99</td>\n",
       "      <td>5</td>\n",
       "      <td>Very pleased</td>\n",
       "      <td>0.0</td>\n",
       "    </tr>\n",
       "    <tr>\n",
       "      <th>3</th>\n",
       "      <td>\"CLEAR CLEAN ESN\" Sprint EPIC 4G Galaxy SPH-D7...</td>\n",
       "      <td>Samsung</td>\n",
       "      <td>199.99</td>\n",
       "      <td>4</td>\n",
       "      <td>It works good but it goes slow sometimes but i...</td>\n",
       "      <td>0.0</td>\n",
       "    </tr>\n",
       "    <tr>\n",
       "      <th>4</th>\n",
       "      <td>\"CLEAR CLEAN ESN\" Sprint EPIC 4G Galaxy SPH-D7...</td>\n",
       "      <td>Samsung</td>\n",
       "      <td>199.99</td>\n",
       "      <td>4</td>\n",
       "      <td>Great phone to replace my lost phone. The only...</td>\n",
       "      <td>0.0</td>\n",
       "    </tr>\n",
       "  </tbody>\n",
       "</table>\n",
       "</div>"
      ],
      "text/plain": [
       "                                        Product Name Brand Name   Price  \\\n",
       "0  \"CLEAR CLEAN ESN\" Sprint EPIC 4G Galaxy SPH-D7...    Samsung  199.99   \n",
       "1  \"CLEAR CLEAN ESN\" Sprint EPIC 4G Galaxy SPH-D7...    Samsung  199.99   \n",
       "2  \"CLEAR CLEAN ESN\" Sprint EPIC 4G Galaxy SPH-D7...    Samsung  199.99   \n",
       "3  \"CLEAR CLEAN ESN\" Sprint EPIC 4G Galaxy SPH-D7...    Samsung  199.99   \n",
       "4  \"CLEAR CLEAN ESN\" Sprint EPIC 4G Galaxy SPH-D7...    Samsung  199.99   \n",
       "\n",
       "   Rating                                            Reviews  Review Votes  \n",
       "0       5  I feel so LUCKY to have found this used (phone...           1.0  \n",
       "1       4  nice phone, nice up grade from my pantach revu...           0.0  \n",
       "2       5                                       Very pleased           0.0  \n",
       "3       4  It works good but it goes slow sometimes but i...           0.0  \n",
       "4       4  Great phone to replace my lost phone. The only...           0.0  "
      ]
     },
     "execution_count": 3,
     "metadata": {},
     "output_type": "execute_result"
    }
   ],
   "source": [
    "#Visualizing the data format\n",
    "raw_data.head()"
   ]
  },
  {
   "cell_type": "code",
   "execution_count": 4,
   "metadata": {},
   "outputs": [
    {
     "data": {
      "text/plain": [
       "<Figure size 640x480 with 1 Axes>"
      ]
     },
     "metadata": {},
     "output_type": "display_data"
    }
   ],
   "source": [
    "#Basic visualization of the dataset\n",
    "import matplotlib.pyplot as plt\n",
    "ylabel = raw_data[\"Price\"]\n",
    "plt.ylabel(\"Price\")\n",
    "plt.xlabel(\"Rating\")\n",
    "xlabel = raw_data[\"Rating\"]\n",
    "plt.scatter(xlabel, ylabel, alpha=0.1)\n",
    "plt.show()\n"
   ]
  },
  {
   "cell_type": "code",
   "execution_count": 5,
   "metadata": {},
   "outputs": [
    {
     "data": {
      "image/png": "[encoded data removed]",
      "text/plain": [
       "<Figure size 432x288 with 1 Axes>"
      ]
     },
     "metadata": {
      "needs_background": "light"
     },
     "output_type": "display_data"
    }
   ],
   "source": [
    "ylabel2 = raw_data[\"Price\"]\n",
    "plt.ylabel(\"Price\")\n",
    "xlabel2 = raw_data[\"Review Votes\"]\n",
    "plt.xlabel(\"Review Votes\")\n",
    "plt.scatter(xlabel2, ylabel2, alpha=0.1)\n",
    "plt.show()"
   ]
  },
  {
   "cell_type": "code",
   "execution_count": 6,
   "metadata": {},
   "outputs": [
    {
     "name": "stdout",
     "output_type": "stream",
     "text": [
      "<class 'pandas.core.frame.DataFrame'>\n",
      "RangeIndex: 413840 entries, 0 to 413839\n",
      "Data columns (total 6 columns):\n",
      "Product Name    413840 non-null object\n",
      "Brand Name      348669 non-null object\n",
      "Price           407907 non-null float64\n",
      "Rating          413840 non-null int64\n",
      "Reviews         413778 non-null object\n",
      "Review Votes    401544 non-null float64\n",
      "dtypes: float64(2), int64(1), object(3)\n",
      "memory usage: 18.9+ MB\n"
     ]
    }
   ],
   "source": [
    "df = raw_data\n",
    "df.info()"
   ]
  },
  {
   "cell_type": "code",
   "execution_count": 7,
   "metadata": {},
   "outputs": [
    {
     "data": {
      "text/html": [
       "<div>\n",
       "<style scoped>\n",
       "    .dataframe tbody tr th:only-of-type {\n",
       "        vertical-align: middle;\n",
       "    }\n",
       "\n",
       "    .dataframe tbody tr th {\n",
       "        vertical-align: top;\n",
       "    }\n",
       "\n",
       "    .dataframe thead th {\n",
       "        text-align: right;\n",
       "    }\n",
       "</style>\n",
       "<table border=\"1\" class=\"dataframe\">\n",
       "  <thead>\n",
       "    <tr style=\"text-align: right;\">\n",
       "      <th></th>\n",
       "      <th>Price</th>\n",
       "      <th>Rating</th>\n",
       "      <th>Review Votes</th>\n",
       "    </tr>\n",
       "  </thead>\n",
       "  <tbody>\n",
       "    <tr>\n",
       "      <th>count</th>\n",
       "      <td>407907.000000</td>\n",
       "      <td>413840.000000</td>\n",
       "      <td>401544.000000</td>\n",
       "    </tr>\n",
       "    <tr>\n",
       "      <th>mean</th>\n",
       "      <td>226.867155</td>\n",
       "      <td>3.819578</td>\n",
       "      <td>1.507237</td>\n",
       "    </tr>\n",
       "    <tr>\n",
       "      <th>std</th>\n",
       "      <td>273.006259</td>\n",
       "      <td>1.548216</td>\n",
       "      <td>9.163853</td>\n",
       "    </tr>\n",
       "    <tr>\n",
       "      <th>min</th>\n",
       "      <td>1.730000</td>\n",
       "      <td>1.000000</td>\n",
       "      <td>0.000000</td>\n",
       "    </tr>\n",
       "    <tr>\n",
       "      <th>25%</th>\n",
       "      <td>79.990000</td>\n",
       "      <td>3.000000</td>\n",
       "      <td>0.000000</td>\n",
       "    </tr>\n",
       "    <tr>\n",
       "      <th>50%</th>\n",
       "      <td>144.710000</td>\n",
       "      <td>5.000000</td>\n",
       "      <td>0.000000</td>\n",
       "    </tr>\n",
       "    <tr>\n",
       "      <th>75%</th>\n",
       "      <td>269.990000</td>\n",
       "      <td>5.000000</td>\n",
       "      <td>1.000000</td>\n",
       "    </tr>\n",
       "    <tr>\n",
       "      <th>max</th>\n",
       "      <td>2598.000000</td>\n",
       "      <td>5.000000</td>\n",
       "      <td>645.000000</td>\n",
       "    </tr>\n",
       "  </tbody>\n",
       "</table>\n",
       "</div>"
      ],
      "text/plain": [
       "               Price         Rating   Review Votes\n",
       "count  407907.000000  413840.000000  401544.000000\n",
       "mean      226.867155       3.819578       1.507237\n",
       "std       273.006259       1.548216       9.163853\n",
       "min         1.730000       1.000000       0.000000\n",
       "25%        79.990000       3.000000       0.000000\n",
       "50%       144.710000       5.000000       0.000000\n",
       "75%       269.990000       5.000000       1.000000\n",
       "max      2598.000000       5.000000     645.000000"
      ]
     },
     "execution_count": 7,
     "metadata": {},
     "output_type": "execute_result"
    }
   ],
   "source": [
    "#Descriptive Statistics of the dataset\n",
    "df.describe()"
   ]
  },
  {
   "cell_type": "code",
   "execution_count": 8,
   "metadata": {},
   "outputs": [
    {
     "data": {
      "text/html": [
       "<div>\n",
       "<style scoped>\n",
       "    .dataframe tbody tr th:only-of-type {\n",
       "        vertical-align: middle;\n",
       "    }\n",
       "\n",
       "    .dataframe tbody tr th {\n",
       "        vertical-align: top;\n",
       "    }\n",
       "\n",
       "    .dataframe thead th {\n",
       "        text-align: right;\n",
       "    }\n",
       "</style>\n",
       "<table border=\"1\" class=\"dataframe\">\n",
       "  <thead>\n",
       "    <tr style=\"text-align: right;\">\n",
       "      <th></th>\n",
       "      <th>Reviews</th>\n",
       "      <th>Rating</th>\n",
       "    </tr>\n",
       "  </thead>\n",
       "  <tbody>\n",
       "    <tr>\n",
       "      <th>0</th>\n",
       "      <td>I feel so LUCKY to have found this used (phone...</td>\n",
       "      <td>5</td>\n",
       "    </tr>\n",
       "    <tr>\n",
       "      <th>1</th>\n",
       "      <td>nice phone, nice up grade from my pantach revu...</td>\n",
       "      <td>4</td>\n",
       "    </tr>\n",
       "    <tr>\n",
       "      <th>2</th>\n",
       "      <td>Very pleased</td>\n",
       "      <td>5</td>\n",
       "    </tr>\n",
       "    <tr>\n",
       "      <th>3</th>\n",
       "      <td>It works good but it goes slow sometimes but i...</td>\n",
       "      <td>4</td>\n",
       "    </tr>\n",
       "    <tr>\n",
       "      <th>4</th>\n",
       "      <td>Great phone to replace my lost phone. The only...</td>\n",
       "      <td>4</td>\n",
       "    </tr>\n",
       "  </tbody>\n",
       "</table>\n",
       "</div>"
      ],
      "text/plain": [
       "                                             Reviews  Rating\n",
       "0  I feel so LUCKY to have found this used (phone...       5\n",
       "1  nice phone, nice up grade from my pantach revu...       4\n",
       "2                                       Very pleased       5\n",
       "3  It works good but it goes slow sometimes but i...       4\n",
       "4  Great phone to replace my lost phone. The only...       4"
      ]
     },
     "execution_count": 8,
     "metadata": {},
     "output_type": "execute_result"
    }
   ],
   "source": [
    "#Selecting only the columns Reviews and Ratings for Consideration of Sentiment Analysis\n",
    "df=df[['Reviews','Rating']]\n",
    "df.head()"
   ]
  },
  {
   "cell_type": "code",
   "execution_count": 9,
   "metadata": {},
   "outputs": [
    {
     "name": "stdout",
     "output_type": "stream",
     "text": [
      "<class 'pandas.core.frame.DataFrame'>\n",
      "Int64Index: 413778 entries, 0 to 413839\n",
      "Data columns (total 2 columns):\n",
      "Reviews    413778 non-null object\n",
      "Rating     413778 non-null int64\n",
      "dtypes: int64(1), object(1)\n",
      "memory usage: 9.5+ MB\n"
     ]
    }
   ],
   "source": [
    "#Data Preprocessing steps by elimination of the rows with missing values\n",
    "df=df.dropna()\n",
    "df.info()"
   ]
  },
  {
   "cell_type": "code",
   "execution_count": 10,
   "metadata": {},
   "outputs": [
    {
     "name": "stdout",
     "output_type": "stream",
     "text": [
      "<class 'pandas.core.frame.DataFrame'>\n",
      "Int64Index: 382015 entries, 0 to 413839\n",
      "Data columns (total 2 columns):\n",
      "Reviews    382015 non-null object\n",
      "Rating     382015 non-null int64\n",
      "dtypes: int64(1), object(1)\n",
      "memory usage: 8.7+ MB\n"
     ]
    }
   ],
   "source": [
    "#Elimination of rows with neutral sentiment since 3 is neither positive nor negative on a scale of 1 to 5.\n",
    "df=df[df['Rating']!=3]\n",
    "df.info()"
   ]
  },
  {
   "cell_type": "code",
   "execution_count": 11,
   "metadata": {},
   "outputs": [
    {
     "data": {
      "text/html": [
       "<div>\n",
       "<style scoped>\n",
       "    .dataframe tbody tr th:only-of-type {\n",
       "        vertical-align: middle;\n",
       "    }\n",
       "\n",
       "    .dataframe tbody tr th {\n",
       "        vertical-align: top;\n",
       "    }\n",
       "\n",
       "    .dataframe thead th {\n",
       "        text-align: right;\n",
       "    }\n",
       "</style>\n",
       "<table border=\"1\" class=\"dataframe\">\n",
       "  <thead>\n",
       "    <tr style=\"text-align: right;\">\n",
       "      <th></th>\n",
       "      <th>Reviews</th>\n",
       "      <th>Rating</th>\n",
       "      <th>sentiment</th>\n",
       "    </tr>\n",
       "  </thead>\n",
       "  <tbody>\n",
       "    <tr>\n",
       "      <th>0</th>\n",
       "      <td>I feel so LUCKY to have found this used (phone...</td>\n",
       "      <td>5</td>\n",
       "      <td>1</td>\n",
       "    </tr>\n",
       "    <tr>\n",
       "      <th>1</th>\n",
       "      <td>nice phone, nice up grade from my pantach revu...</td>\n",
       "      <td>4</td>\n",
       "      <td>1</td>\n",
       "    </tr>\n",
       "    <tr>\n",
       "      <th>2</th>\n",
       "      <td>Very pleased</td>\n",
       "      <td>5</td>\n",
       "      <td>1</td>\n",
       "    </tr>\n",
       "    <tr>\n",
       "      <th>3</th>\n",
       "      <td>It works good but it goes slow sometimes but i...</td>\n",
       "      <td>4</td>\n",
       "      <td>1</td>\n",
       "    </tr>\n",
       "    <tr>\n",
       "      <th>4</th>\n",
       "      <td>Great phone to replace my lost phone. The only...</td>\n",
       "      <td>4</td>\n",
       "      <td>1</td>\n",
       "    </tr>\n",
       "  </tbody>\n",
       "</table>\n",
       "</div>"
      ],
      "text/plain": [
       "                                             Reviews  Rating  sentiment\n",
       "0  I feel so LUCKY to have found this used (phone...       5          1\n",
       "1  nice phone, nice up grade from my pantach revu...       4          1\n",
       "2                                       Very pleased       5          1\n",
       "3  It works good but it goes slow sometimes but i...       4          1\n",
       "4  Great phone to replace my lost phone. The only...       4          1"
      ]
     },
     "execution_count": 11,
     "metadata": {},
     "output_type": "execute_result"
    }
   ],
   "source": [
    "# Assignning Positive Rating > 3 as 1 and Negative Rating which is less than 3 as 0\n",
    "df['sentiment']=np.where(df['Rating'] > 3, 1, 0)\n",
    "df.head()"
   ]
  },
  {
   "cell_type": "code",
   "execution_count": 12,
   "metadata": {},
   "outputs": [
    {
     "data": {
      "text/html": [
       "<div>\n",
       "<style scoped>\n",
       "    .dataframe tbody tr th:only-of-type {\n",
       "        vertical-align: middle;\n",
       "    }\n",
       "\n",
       "    .dataframe tbody tr th {\n",
       "        vertical-align: top;\n",
       "    }\n",
       "\n",
       "    .dataframe thead th {\n",
       "        text-align: right;\n",
       "    }\n",
       "</style>\n",
       "<table border=\"1\" class=\"dataframe\">\n",
       "  <thead>\n",
       "    <tr style=\"text-align: right;\">\n",
       "      <th></th>\n",
       "      <th>Reviews</th>\n",
       "      <th>Rating</th>\n",
       "      <th>sentiment</th>\n",
       "    </tr>\n",
       "  </thead>\n",
       "  <tbody>\n",
       "    <tr>\n",
       "      <th>413832</th>\n",
       "      <td>good rugged phone that has a long-lasting batt...</td>\n",
       "      <td>4</td>\n",
       "      <td>1</td>\n",
       "    </tr>\n",
       "    <tr>\n",
       "      <th>413834</th>\n",
       "      <td>used hard</td>\n",
       "      <td>1</td>\n",
       "      <td>0</td>\n",
       "    </tr>\n",
       "    <tr>\n",
       "      <th>413835</th>\n",
       "      <td>another great deal great price</td>\n",
       "      <td>5</td>\n",
       "      <td>1</td>\n",
       "    </tr>\n",
       "    <tr>\n",
       "      <th>413837</th>\n",
       "      <td>Passes every drop test onto porcelain tile!</td>\n",
       "      <td>5</td>\n",
       "      <td>1</td>\n",
       "    </tr>\n",
       "    <tr>\n",
       "      <th>413839</th>\n",
       "      <td>Only downside is that apparently Verizon no lo...</td>\n",
       "      <td>4</td>\n",
       "      <td>1</td>\n",
       "    </tr>\n",
       "  </tbody>\n",
       "</table>\n",
       "</div>"
      ],
      "text/plain": [
       "                                                  Reviews  Rating  sentiment\n",
       "413832  good rugged phone that has a long-lasting batt...       4          1\n",
       "413834                                          used hard       1          0\n",
       "413835                     another great deal great price       5          1\n",
       "413837        Passes every drop test onto porcelain tile!       5          1\n",
       "413839  Only downside is that apparently Verizon no lo...       4          1"
      ]
     },
     "execution_count": 12,
     "metadata": {},
     "output_type": "execute_result"
    }
   ],
   "source": [
    "df.tail()"
   ]
  },
  {
   "cell_type": "code",
   "execution_count": 13,
   "metadata": {},
   "outputs": [],
   "source": [
    "#Function for data cleaning\n",
    "Cstopwords=set(stopwords.words('english')+list(punctuation))\n",
    "from nltk.stem import WordNetLemmatizer\n",
    "lemma=WordNetLemmatizer()\n",
    "def clean_review(review_column):\n",
    "    review_corpus=[]    \n",
    "    review=review_column\n",
    "    #review=BeautifulSoup(review,'lxml').text\n",
    "    review=re.sub('[^a-zA-Z]',' ',review)\n",
    "    review=str(review).lower()\n",
    "    review=word_tokenize(review)\n",
    "    #review=[stemmer.stem(w) for w in review if w not in Cstopwords]\n",
    "    review=[lemma.lemmatize(w) for w in review ]\n",
    "    review=' '.join(review)\n",
    "    review_corpus.append(review)\n",
    "    return review"
   ]
  },
  {
   "cell_type": "code",
   "execution_count": 14,
   "metadata": {},
   "outputs": [],
   "source": [
    "review_column=df['Reviews']\n",
    "review_corpus=review_column.apply(clean_review)"
   ]
  },
  {
   "cell_type": "code",
   "execution_count": 15,
   "metadata": {},
   "outputs": [
    {
     "data": {
      "text/plain": [
       "0         I feel so LUCKY to have found this used (phone...\n",
       "1         nice phone, nice up grade from my pantach revu...\n",
       "2                                              Very pleased\n",
       "3         It works good but it goes slow sometimes but i...\n",
       "4         Great phone to replace my lost phone. The only...\n",
       "5         I already had a phone with problems... I know ...\n",
       "6         The charging port was loose. I got that solder...\n",
       "7         Phone looks good but wouldn't stay charged, ha...\n",
       "8         I originally was using the Samsung S2 Galaxy f...\n",
       "11        This is a great product it came after two days...\n",
       "12        These guys are the best! I had a little situat...\n",
       "13        I'm really disappointed about my phone and ser...\n",
       "14        Ordered this phone as a replacement for the sa...\n",
       "15        Had this phone before and loved it but was not...\n",
       "16        I was able to get the phone I previously owned...\n",
       "17        I brought this phone as a replacement for my d...\n",
       "18        I love the phone. It does everything I need an...\n",
       "20        The battery was old & had been over used becau...\n",
       "21        pros-beautiful screen,capable of running chrom...\n",
       "22        I purchased this phone in December as a christ...\n",
       "23        Phone good just a little slow phone old but it...\n",
       "24        Phone's speaker little low. Overall very happy...\n",
       "25        the phone was great and in good condition. My ...\n",
       "27                    Phone works great. No problems at all\n",
       "28             was not in good condition but does work good\n",
       "29        Just... not good. The phone has great screen r...\n",
       "30                                 as described, fast ship!\n",
       "31                                    Perfect in every way.\n",
       "32        One of the phones have a bad charger port. I w...\n",
       "33        Just got this phone and it is a great phone. I...\n",
       "                                ...                        \n",
       "413805    first phone did not work i called them and the...\n",
       "413806    Great phone for the person who needs to make c...\n",
       "413807    I purchased this phone on 6/13/2013. Upon rece...\n",
       "413808    The phone was decent and came as expected. How...\n",
       "413809    I like this phone for the larger buttons for t...\n",
       "413810    I purchased the Samsung Convoy U640 for my eld...\n",
       "413811    My husband wanted rugged pho?ne for work. He i...\n",
       "413812    I never bought from Amazon before , but I real...\n",
       "413813    Iv'e never quite got used to the iphone and dr...\n",
       "413814    This is by far the best flip phone out there. ...\n",
       "413815    This phone is simple, very good , and it works...\n",
       "413816    Good sturdy phone for a pre-teen to have avail...\n",
       "413817    This is the second junk Convoy I have owned. T...\n",
       "413819    I BOUGHT THIS PHONE FOR MY HUSBAND AND HE LOVE...\n",
       "413820    They said phone was normal wear but it was a l...\n",
       "413821    You could shoot this out of a potato gun, and ...\n",
       "413822    Bought this for my mother and she loves it. Gr...\n",
       "413823    Excellent phone, as advertised. Love the push-...\n",
       "413824    works great and picks up signal in place my ot...\n",
       "413825    Great phone. Large keys, best flip phone I hav...\n",
       "413826    Pros...Works great, very durable, easy to navi...\n",
       "413827              just as described perfect for the price\n",
       "413828                                       Would not work\n",
       "413830                                              LOVE IT\n",
       "413831    Item was listed as new, but was not. When we t...\n",
       "413832    good rugged phone that has a long-lasting batt...\n",
       "413834                                            used hard\n",
       "413835                       another great deal great price\n",
       "413837          Passes every drop test onto porcelain tile!\n",
       "413839    Only downside is that apparently Verizon no lo...\n",
       "Name: Reviews, Length: 382015, dtype: object"
      ]
     },
     "execution_count": 15,
     "metadata": {},
     "output_type": "execute_result"
    }
   ],
   "source": [
    "review_column"
   ]
  },
  {
   "cell_type": "code",
   "execution_count": 16,
   "metadata": {},
   "outputs": [],
   "source": [
    "df['clean_reviews'] = review_corpus"
   ]
  },
  {
   "cell_type": "code",
   "execution_count": 17,
   "metadata": {},
   "outputs": [
    {
     "data": {
      "text/plain": [
       "0     i feel so lucky to have found this used phone ...\n",
       "1     nice phone nice up grade from my pantach revue...\n",
       "2                                          very pleased\n",
       "3     it work good but it go slow sometimes but it a...\n",
       "4     great phone to replace my lost phone the only ...\n",
       "5     i already had a phone with problem i know it s...\n",
       "6     the charging port wa loose i got that soldered...\n",
       "7     phone look good but wouldn t stay charged had ...\n",
       "8     i originally wa using the samsung s galaxy for...\n",
       "11    this is a great product it came after two day ...\n",
       "Name: clean_reviews, dtype: object"
      ]
     },
     "execution_count": 17,
     "metadata": {},
     "output_type": "execute_result"
    }
   ],
   "source": [
    "df['clean_reviews'].head(10)"
   ]
  },
  {
   "cell_type": "code",
   "execution_count": 18,
   "metadata": {},
   "outputs": [
    {
     "data": {
      "text/html": [
       "<div>\n",
       "<style scoped>\n",
       "    .dataframe tbody tr th:only-of-type {\n",
       "        vertical-align: middle;\n",
       "    }\n",
       "\n",
       "    .dataframe tbody tr th {\n",
       "        vertical-align: top;\n",
       "    }\n",
       "\n",
       "    .dataframe thead th {\n",
       "        text-align: right;\n",
       "    }\n",
       "</style>\n",
       "<table border=\"1\" class=\"dataframe\">\n",
       "  <thead>\n",
       "    <tr style=\"text-align: right;\">\n",
       "      <th></th>\n",
       "      <th>Reviews</th>\n",
       "      <th>Rating</th>\n",
       "      <th>sentiment</th>\n",
       "      <th>clean_reviews</th>\n",
       "    </tr>\n",
       "  </thead>\n",
       "  <tbody>\n",
       "    <tr>\n",
       "      <th>413815</th>\n",
       "      <td>This phone is simple, very good , and it works...</td>\n",
       "      <td>5</td>\n",
       "      <td>1</td>\n",
       "      <td>this phone is simple very good and it work exc...</td>\n",
       "    </tr>\n",
       "    <tr>\n",
       "      <th>413816</th>\n",
       "      <td>Good sturdy phone for a pre-teen to have avail...</td>\n",
       "      <td>4</td>\n",
       "      <td>1</td>\n",
       "      <td>good sturdy phone for a pre teen to have avail...</td>\n",
       "    </tr>\n",
       "    <tr>\n",
       "      <th>413817</th>\n",
       "      <td>This is the second junk Convoy I have owned. T...</td>\n",
       "      <td>1</td>\n",
       "      <td>0</td>\n",
       "      <td>this is the second junk convoy i have owned th...</td>\n",
       "    </tr>\n",
       "    <tr>\n",
       "      <th>413819</th>\n",
       "      <td>I BOUGHT THIS PHONE FOR MY HUSBAND AND HE LOVE...</td>\n",
       "      <td>5</td>\n",
       "      <td>1</td>\n",
       "      <td>i bought this phone for my husband and he love...</td>\n",
       "    </tr>\n",
       "    <tr>\n",
       "      <th>413820</th>\n",
       "      <td>They said phone was normal wear but it was a l...</td>\n",
       "      <td>1</td>\n",
       "      <td>0</td>\n",
       "      <td>they said phone wa normal wear but it wa a lie...</td>\n",
       "    </tr>\n",
       "    <tr>\n",
       "      <th>413821</th>\n",
       "      <td>You could shoot this out of a potato gun, and ...</td>\n",
       "      <td>5</td>\n",
       "      <td>1</td>\n",
       "      <td>you could shoot this out of a potato gun and p...</td>\n",
       "    </tr>\n",
       "    <tr>\n",
       "      <th>413822</th>\n",
       "      <td>Bought this for my mother and she loves it. Gr...</td>\n",
       "      <td>5</td>\n",
       "      <td>1</td>\n",
       "      <td>bought this for my mother and she love it grea...</td>\n",
       "    </tr>\n",
       "    <tr>\n",
       "      <th>413823</th>\n",
       "      <td>Excellent phone, as advertised. Love the push-...</td>\n",
       "      <td>5</td>\n",
       "      <td>1</td>\n",
       "      <td>excellent phone a advertised love the push to ...</td>\n",
       "    </tr>\n",
       "    <tr>\n",
       "      <th>413824</th>\n",
       "      <td>works great and picks up signal in place my ot...</td>\n",
       "      <td>4</td>\n",
       "      <td>1</td>\n",
       "      <td>work great and pick up signal in place my othe...</td>\n",
       "    </tr>\n",
       "    <tr>\n",
       "      <th>413825</th>\n",
       "      <td>Great phone. Large keys, best flip phone I hav...</td>\n",
       "      <td>5</td>\n",
       "      <td>1</td>\n",
       "      <td>great phone large key best flip phone i have o...</td>\n",
       "    </tr>\n",
       "    <tr>\n",
       "      <th>413826</th>\n",
       "      <td>Pros...Works great, very durable, easy to navi...</td>\n",
       "      <td>5</td>\n",
       "      <td>1</td>\n",
       "      <td>pro work great very durable easy to navigate s...</td>\n",
       "    </tr>\n",
       "    <tr>\n",
       "      <th>413827</th>\n",
       "      <td>just as described perfect for the price</td>\n",
       "      <td>5</td>\n",
       "      <td>1</td>\n",
       "      <td>just a described perfect for the price</td>\n",
       "    </tr>\n",
       "    <tr>\n",
       "      <th>413828</th>\n",
       "      <td>Would not work</td>\n",
       "      <td>1</td>\n",
       "      <td>0</td>\n",
       "      <td>would not work</td>\n",
       "    </tr>\n",
       "    <tr>\n",
       "      <th>413830</th>\n",
       "      <td>LOVE IT</td>\n",
       "      <td>5</td>\n",
       "      <td>1</td>\n",
       "      <td>love it</td>\n",
       "    </tr>\n",
       "    <tr>\n",
       "      <th>413831</th>\n",
       "      <td>Item was listed as new, but was not. When we t...</td>\n",
       "      <td>1</td>\n",
       "      <td>0</td>\n",
       "      <td>item wa listed a new but wa not when we tried ...</td>\n",
       "    </tr>\n",
       "    <tr>\n",
       "      <th>413832</th>\n",
       "      <td>good rugged phone that has a long-lasting batt...</td>\n",
       "      <td>4</td>\n",
       "      <td>1</td>\n",
       "      <td>good rugged phone that ha a long lasting batte...</td>\n",
       "    </tr>\n",
       "    <tr>\n",
       "      <th>413834</th>\n",
       "      <td>used hard</td>\n",
       "      <td>1</td>\n",
       "      <td>0</td>\n",
       "      <td>used hard</td>\n",
       "    </tr>\n",
       "    <tr>\n",
       "      <th>413835</th>\n",
       "      <td>another great deal great price</td>\n",
       "      <td>5</td>\n",
       "      <td>1</td>\n",
       "      <td>another great deal great price</td>\n",
       "    </tr>\n",
       "    <tr>\n",
       "      <th>413837</th>\n",
       "      <td>Passes every drop test onto porcelain tile!</td>\n",
       "      <td>5</td>\n",
       "      <td>1</td>\n",
       "      <td>pass every drop test onto porcelain tile</td>\n",
       "    </tr>\n",
       "    <tr>\n",
       "      <th>413839</th>\n",
       "      <td>Only downside is that apparently Verizon no lo...</td>\n",
       "      <td>4</td>\n",
       "      <td>1</td>\n",
       "      <td>only downside is that apparently verizon no lo...</td>\n",
       "    </tr>\n",
       "  </tbody>\n",
       "</table>\n",
       "</div>"
      ],
      "text/plain": [
       "                                                  Reviews  Rating  sentiment  \\\n",
       "413815  This phone is simple, very good , and it works...       5          1   \n",
       "413816  Good sturdy phone for a pre-teen to have avail...       4          1   \n",
       "413817  This is the second junk Convoy I have owned. T...       1          0   \n",
       "413819  I BOUGHT THIS PHONE FOR MY HUSBAND AND HE LOVE...       5          1   \n",
       "413820  They said phone was normal wear but it was a l...       1          0   \n",
       "413821  You could shoot this out of a potato gun, and ...       5          1   \n",
       "413822  Bought this for my mother and she loves it. Gr...       5          1   \n",
       "413823  Excellent phone, as advertised. Love the push-...       5          1   \n",
       "413824  works great and picks up signal in place my ot...       4          1   \n",
       "413825  Great phone. Large keys, best flip phone I hav...       5          1   \n",
       "413826  Pros...Works great, very durable, easy to navi...       5          1   \n",
       "413827            just as described perfect for the price       5          1   \n",
       "413828                                     Would not work       1          0   \n",
       "413830                                            LOVE IT       5          1   \n",
       "413831  Item was listed as new, but was not. When we t...       1          0   \n",
       "413832  good rugged phone that has a long-lasting batt...       4          1   \n",
       "413834                                          used hard       1          0   \n",
       "413835                     another great deal great price       5          1   \n",
       "413837        Passes every drop test onto porcelain tile!       5          1   \n",
       "413839  Only downside is that apparently Verizon no lo...       4          1   \n",
       "\n",
       "                                            clean_reviews  \n",
       "413815  this phone is simple very good and it work exc...  \n",
       "413816  good sturdy phone for a pre teen to have avail...  \n",
       "413817  this is the second junk convoy i have owned th...  \n",
       "413819  i bought this phone for my husband and he love...  \n",
       "413820  they said phone wa normal wear but it wa a lie...  \n",
       "413821  you could shoot this out of a potato gun and p...  \n",
       "413822  bought this for my mother and she love it grea...  \n",
       "413823  excellent phone a advertised love the push to ...  \n",
       "413824  work great and pick up signal in place my othe...  \n",
       "413825  great phone large key best flip phone i have o...  \n",
       "413826  pro work great very durable easy to navigate s...  \n",
       "413827             just a described perfect for the price  \n",
       "413828                                     would not work  \n",
       "413830                                            love it  \n",
       "413831  item wa listed a new but wa not when we tried ...  \n",
       "413832  good rugged phone that ha a long lasting batte...  \n",
       "413834                                          used hard  \n",
       "413835                     another great deal great price  \n",
       "413837           pass every drop test onto porcelain tile  \n",
       "413839  only downside is that apparently verizon no lo...  "
      ]
     },
     "execution_count": 18,
     "metadata": {},
     "output_type": "execute_result"
    }
   ],
   "source": [
    "df['clean_reviews']=review_corpus\n",
    "df.tail(20)"
   ]
  },
  {
   "cell_type": "code",
   "execution_count": 20,
   "metadata": {},
   "outputs": [],
   "source": [
    "#Feature Engineering CountVectorizer \n",
    "from sklearn.feature_extraction.text import CountVectorizer"
   ]
  },
  {
   "cell_type": "code",
   "execution_count": 21,
   "metadata": {},
   "outputs": [],
   "source": [
    "cv=CountVectorizer(max_features=20000,min_df=5,ngram_range=(1,2))"
   ]
  },
  {
   "cell_type": "code",
   "execution_count": 22,
   "metadata": {},
   "outputs": [
    {
     "data": {
      "text/plain": [
       "(382015, 20000)"
      ]
     },
     "execution_count": 22,
     "metadata": {},
     "output_type": "execute_result"
    }
   ],
   "source": [
    "X1=cv.fit_transform(df['clean_reviews'])\n",
    "X1.shape"
   ]
  },
  {
   "cell_type": "code",
   "execution_count": 23,
   "metadata": {},
   "outputs": [],
   "source": [
    "#Feature Engineering using TF-IDF\n",
    "from sklearn.feature_extraction.text import TfidfVectorizer"
   ]
  },
  {
   "cell_type": "code",
   "execution_count": 24,
   "metadata": {},
   "outputs": [],
   "source": [
    "tfidf=TfidfVectorizer(min_df=5, max_df=0.95, max_features = 20000, ngram_range = ( 1, 2 ),\n",
    "                              sublinear_tf = True)"
   ]
  },
  {
   "cell_type": "code",
   "execution_count": 25,
   "metadata": {},
   "outputs": [],
   "source": [
    "tfidf=tfidf.fit(df['clean_reviews'])"
   ]
  },
  {
   "cell_type": "code",
   "execution_count": 26,
   "metadata": {},
   "outputs": [
    {
     "data": {
      "text/plain": [
       "(382015, 20000)"
      ]
     },
     "execution_count": 26,
     "metadata": {},
     "output_type": "execute_result"
    }
   ],
   "source": [
    "X2=tfidf.transform(df['clean_reviews'])\n",
    "X2.shape"
   ]
  },
  {
   "cell_type": "code",
   "execution_count": 27,
   "metadata": {},
   "outputs": [
    {
     "data": {
      "text/plain": [
       "(382015,)"
      ]
     },
     "execution_count": 27,
     "metadata": {},
     "output_type": "execute_result"
    }
   ],
   "source": [
    "y=df['sentiment'].values\n",
    "y.shape"
   ]
  },
  {
   "cell_type": "code",
   "execution_count": 28,
   "metadata": {},
   "outputs": [
    {
     "name": "stdout",
     "output_type": "stream",
     "text": [
      "(305612, 20000) (305612,)\n",
      "(76403, 20000) (76403,)\n"
     ]
    }
   ],
   "source": [
    "#Using the TF-IDF features on machine learning algorithms\n",
    "X = X2\n",
    "# train test split\n",
    "from sklearn.model_selection import train_test_split\n",
    "X_train, X_test, y_train, y_test = train_test_split(X, y, test_size=0.2, random_state=0)\n",
    "print(X_train.shape, y_train.shape)\n",
    "print(X_test.shape, y_test.shape)"
   ]
  },
  {
   "cell_type": "code",
   "execution_count": 29,
   "metadata": {},
   "outputs": [
    {
     "name": "stderr",
     "output_type": "stream",
     "text": [
      "C:\\Users\\harsh\\AppData\\Local\\Continuum\\anaconda3\\lib\\site-packages\\sklearn\\linear_model\\logistic.py:433: FutureWarning: Default solver will be changed to 'lbfgs' in 0.22. Specify a solver to silence this warning.\n",
      "  FutureWarning)\n"
     ]
    },
    {
     "name": "stdout",
     "output_type": "stream",
     "text": [
      "Accuracy for Logistic Regression : 0.9623444105597948\n",
      "Confusion matrix for Logistic Regression:\n",
      " [[17833  1632]\n",
      " [ 1245 55693]]\n",
      "F1 score for Logistic Regression : 0.9748212457225874\n",
      "Precision score for Logistic Regression : 0.9715307457479285\n",
      "recall score for Logistic Regression : 0.978134110787172\n",
      "AUC:  0.9471456580136735\n"
     ]
    }
   ],
   "source": [
    "#Implementing Logistic Based Regression model\n",
    "from sklearn.metrics import accuracy_score\n",
    "from sklearn.metrics import confusion_matrix\n",
    "from sklearn.metrics import roc_auc_score\n",
    "from sklearn.metrics import f1_score\n",
    "from sklearn.metrics import precision_score\n",
    "from sklearn.metrics import recall_score\n",
    "from sklearn.linear_model import LogisticRegression as lr\n",
    "model_lr=lr(random_state=0)\n",
    "model_lr.fit(X_train,y_train)\n",
    "y_pred_lr=model_lr.predict(X_test)\n",
    "print('Accuracy for Logistic Regression :',accuracy_score(y_test,y_pred_lr))\n",
    "print('Confusion matrix for Logistic Regression:\\n',confusion_matrix(y_test,y_pred_lr))\n",
    "print('F1 score for Logistic Regression :',f1_score(y_test,y_pred_lr))\n",
    "print('Precision score for Logistic Regression :',precision_score(y_test,y_pred_lr))\n",
    "print('recall score for Logistic Regression :',recall_score(y_test,y_pred_lr))\n",
    "print('AUC: ', roc_auc_score(y_test, y_pred_lr))"
   ]
  },
  {
   "cell_type": "code",
   "execution_count": 30,
   "metadata": {},
   "outputs": [
    {
     "name": "stdout",
     "output_type": "stream",
     "text": [
      "Smallest Coefs:\n",
      "['not' 'worst' 'disappointed' 'not happy' 'poor' 'terrible' 'doesn'\n",
      " 'horrible' 'useless' 'return']\n",
      "\n",
      "Largest Coefs: \n",
      "['great' 'love' 'excellent' 'perfect' 'no problem' 'amazing' 'awesome'\n",
      " 'best' 'love this' 'not bad']\n"
     ]
    }
   ],
   "source": [
    "#Top 10 features obtained using CountVectorizer \n",
    "feature_names = np.array(cv.get_feature_names())\n",
    "\n",
    "# Sort the coefficients from the model\n",
    "sorted_coef_index = model_lr.coef_[0].argsort()\n",
    "\n",
    "# Find the 10 smallest and 10 largest coefficients\n",
    "# The 10 largest coefficients are being indexed using [:-11:-1] \n",
    "# so the list returned is in order of largest to smallest\n",
    "print('Smallest Coefs:\\n{}\\n'.format(feature_names[sorted_coef_index[:10]]))\n",
    "print('Largest Coefs: \\n{}'.format(feature_names[sorted_coef_index[:-11:-1]]))"
   ]
  },
  {
   "cell_type": "code",
   "execution_count": 31,
   "metadata": {},
   "outputs": [
    {
     "name": "stdout",
     "output_type": "stream",
     "text": [
      "accuracy for Naive Bayes Classifier : 0.9368480295276364\n",
      "confusion matrix for Naive Bayes Classifier:\n",
      " [[16687  2778]\n",
      " [ 2047 54891]]\n",
      "F1 score for Logistic Regression : 0.9578996047361854\n",
      "Precision score for Logistic Regression : 0.9518285387296468\n",
      "recall score for Logistic Regression : 0.9640486142822017\n",
      "AUC:  0.9106654579245582\n"
     ]
    }
   ],
   "source": [
    "#Implementing Multinomial Naive Bayes Algorithm\n",
    "from sklearn.naive_bayes import MultinomialNB\n",
    "model_nb=MultinomialNB()\n",
    "model_nb.fit(X_train,y_train)\n",
    "y_pred_nb=model_nb.predict(X_test)\n",
    "y_te_nb= model_nb.predict(X_test[6]) \n",
    "print('accuracy for Naive Bayes Classifier :',accuracy_score(y_test,y_pred_nb))\n",
    "print('confusion matrix for Naive Bayes Classifier:\\n',confusion_matrix(y_test,y_pred_nb))\n",
    "print('F1 score for Logistic Regression :',f1_score(y_test,y_pred_nb))\n",
    "print('Precision score for Logistic Regression :',precision_score(y_test,y_pred_nb))\n",
    "print('recall score for Logistic Regression :',recall_score(y_test,y_pred_nb))\n",
    "print('AUC: ', roc_auc_score(y_test, y_pred_nb))"
   ]
  },
  {
   "cell_type": "code",
   "execution_count": 32,
   "metadata": {},
   "outputs": [
    {
     "name": "stdout",
     "output_type": "stream",
     "text": [
      "Smallest Coefs:\n",
      "['worst purchase' 'never recommend' 'total waste' 'nothing work' 'is scam'\n",
      " 'royalty' 'reported stolen' 'zero star' 'very dissapointed'\n",
      " 'started freezing']\n",
      "\n",
      "Largest Coefs: \n",
      "['good' 'great' 'phone' 'it' 'excellent' 'the' 'and' 'love' 'very' 'is']\n"
     ]
    }
   ],
   "source": [
    "# get the feature names as numpy array\n",
    "feature_names = np.array(cv.get_feature_names())\n",
    "\n",
    "# Sort the coefficients from the model\n",
    "sorted_coef_index = model_nb.coef_[0].argsort()\n",
    "\n",
    "# Find the 10 smallest and 10 largest coefficients\n",
    "# The 10 largest coefficients are being indexed using [:-11:-1] \n",
    "# so the list returned is in order of largest to smallest\n",
    "print('Smallest Coefs:\\n{}\\n'.format(feature_names[sorted_coef_index[:10]]))\n",
    "print('Largest Coefs: \\n{}'.format(feature_names[sorted_coef_index[:-11:-1]]))"
   ]
  },
  {
   "cell_type": "code",
   "execution_count": 33,
   "metadata": {},
   "outputs": [
    {
     "name": "stderr",
     "output_type": "stream",
     "text": [
      "C:\\Users\\harsh\\AppData\\Local\\Continuum\\anaconda3\\lib\\site-packages\\sklearn\\ensemble\\forest.py:246: FutureWarning: The default value of n_estimators will change from 10 in version 0.20 to 100 in 0.22.\n",
      "  \"10 in version 0.20 to 100 in 0.22.\", FutureWarning)\n"
     ]
    },
    {
     "name": "stdout",
     "output_type": "stream",
     "text": [
      "accuracy for Random Forest Classifier : 0.9702891247725874\n",
      "confusion matrix for Random Forest Classifier:\n",
      " [[18247  1218]\n",
      " [ 1052 55886]]\n",
      "F1 score for Logistic Regression : 0.9800950526998825\n",
      "Precision score for Logistic Regression : 0.9786704959372373\n",
      "recall score for Logistic Regression : 0.9815237626892409\n",
      "AUC:  0.9594749560941709\n"
     ]
    }
   ],
   "source": [
    "#Implementing the Random Forest Algorithm\n",
    "from sklearn.ensemble import RandomForestClassifier\n",
    "model_rf=RandomForestClassifier()\n",
    "model_rf.fit(X_train,y_train)\n",
    "y_pred_rf=model_rf.predict(X_test)\n",
    "print('accuracy for Random Forest Classifier :',accuracy_score(y_test,y_pred_rf))\n",
    "print('confusion matrix for Random Forest Classifier:\\n',confusion_matrix(y_test,y_pred_rf))\n",
    "print('F1 score for Logistic Regression :',f1_score(y_test,y_pred_rf))\n",
    "print('Precision score for Logistic Regression :',precision_score(y_test,y_pred_rf))\n",
    "print('recall score for Logistic Regression :',recall_score(y_test,y_pred_rf))\n",
    "print('AUC: ', roc_auc_score(y_test, y_pred_rf))"
   ]
  },
  {
   "cell_type": "code",
   "execution_count": 34,
   "metadata": {},
   "outputs": [
    {
     "name": "stdout",
     "output_type": "stream",
     "text": [
      "Smallest Coefs:\n",
      "['zune' 'camera front' 'point it' 'camera have' 'camera if' 'pocket of'\n",
      " 'plus is' 'plus gb' 'plus for' 'plugging']\n",
      "\n",
      "Largest Coefs: \n",
      "['not' 'great' 'love' 'the phone' 'good' 'return' 'it' 'bad' 'stopped'\n",
      " 'after']\n"
     ]
    }
   ],
   "source": [
    "feature_names = np.array(cv.get_feature_names())\n",
    "\n",
    "# Sort the coefficients from the model\n",
    "sorted_coef_index = model_rf.feature_importances_.argsort()\n",
    "\n",
    "# Find the 10 smallest and 10 largest coefficients\n",
    "# The 10 largest coefficients are being indexed using [:-11:-1] \n",
    "# so the list returned is in order of largest to smallest\n",
    "print('Smallest Coefs:\\n{}\\n'.format(feature_names[sorted_coef_index[:10]]))\n",
    "print('Largest Coefs: \\n{}'.format(feature_names[sorted_coef_index[:-11:-1]]))"
   ]
  },
  {
   "cell_type": "code",
   "execution_count": 19,
   "metadata": {},
   "outputs": [
    {
     "data": {
      "text/plain": [
       "0         i feel so lucky to have found this used phone ...\n",
       "1         nice phone nice up grade from my pantach revue...\n",
       "2                                              very pleased\n",
       "3         it work good but it go slow sometimes but it a...\n",
       "4         great phone to replace my lost phone the only ...\n",
       "8         i originally wa using the samsung s galaxy for...\n",
       "11        this is a great product it came after two day ...\n",
       "12        these guy are the best i had a little situatio...\n",
       "14        ordered this phone a a replacement for the sam...\n",
       "16        i wa able to get the phone i previously owned ...\n",
       "17        i brought this phone a a replacement for my da...\n",
       "18        i love the phone it doe everything i need and ...\n",
       "20        the battery wa old had been over used because ...\n",
       "21        pro beautiful screen capable of running chrome...\n",
       "23        phone good just a little slow phone old but it...\n",
       "24        phone s speaker little low overall very happy ...\n",
       "25        the phone wa great and in good condition my da...\n",
       "27                       phone work great no problem at all\n",
       "30                                    a described fast ship\n",
       "31                                     perfect in every way\n",
       "33        just got this phone and it is a great phone it...\n",
       "34        the phone wa great but it had gotten old so it...\n",
       "35        this phone came in great condition great price...\n",
       "36        met all of my expectation i can t complain at ...\n",
       "37        phone is working on i wa planning to use it fo...\n",
       "38                   excellent product in perfect condition\n",
       "39                                                excellent\n",
       "40                                                excelente\n",
       "41                                                excelente\n",
       "45                                                i love it\n",
       "                                ...                        \n",
       "413796    this phone is durable and doe fit in the clip ...\n",
       "413797    had this phone before for year so when that on...\n",
       "413798    i bought this phone for my daughter i guess be...\n",
       "413799    the phone work good but the battery wa no good...\n",
       "413802    i am an electrical contractor and this phone i...\n",
       "413804    the samsung convoy is much sturdier than my ea...\n",
       "413805    first phone did not work i called them and the...\n",
       "413806    great phone for the person who need to make ca...\n",
       "413808    the phone wa decent and came a expected howeve...\n",
       "413809    i like this phone for the larger button for te...\n",
       "413810    i purchased the samsung convoy u for my elderl...\n",
       "413811    my husband wanted rugged pho ne for work he is...\n",
       "413812    i never bought from amazon before but i really...\n",
       "413813    iv e never quite got used to the iphone and dr...\n",
       "413814    this is by far the best flip phone out there m...\n",
       "413815    this phone is simple very good and it work exc...\n",
       "413816    good sturdy phone for a pre teen to have avail...\n",
       "413819    i bought this phone for my husband and he love...\n",
       "413821    you could shoot this out of a potato gun and p...\n",
       "413822    bought this for my mother and she love it grea...\n",
       "413823    excellent phone a advertised love the push to ...\n",
       "413824    work great and pick up signal in place my othe...\n",
       "413825    great phone large key best flip phone i have o...\n",
       "413826    pro work great very durable easy to navigate s...\n",
       "413827               just a described perfect for the price\n",
       "413830                                              love it\n",
       "413832    good rugged phone that ha a long lasting batte...\n",
       "413835                       another great deal great price\n",
       "413837             pass every drop test onto porcelain tile\n",
       "413839    only downside is that apparently verizon no lo...\n",
       "Name: clean_reviews, Length: 284954, dtype: object"
      ]
     },
     "execution_count": 19,
     "metadata": {},
     "output_type": "execute_result"
    }
   ],
   "source": [
    "#Positive Reviews\n",
    "df[df['sentiment']==1]['clean_reviews']"
   ]
  },
  {
   "cell_type": "code",
   "execution_count": 27,
   "metadata": {},
   "outputs": [],
   "source": [
    "text = df['clean_reviews'].to_string()"
   ]
  },
  {
   "cell_type": "code",
   "execution_count": 28,
   "metadata": {},
   "outputs": [
    {
     "data": {
      "text/plain": [
       "str"
      ]
     },
     "execution_count": 28,
     "metadata": {},
     "output_type": "execute_result"
    }
   ],
   "source": [
    "type(text)"
   ]
  },
  {
   "cell_type": "code",
   "execution_count": 23,
   "metadata": {},
   "outputs": [],
   "source": [
    "from os import path\n",
    "from PIL import Image\n",
    "from wordcloud import WordCloud, STOPWORDS, ImageColorGenerator\n",
    "\n",
    "import matplotlib.pyplot as plt"
   ]
  },
  {
   "cell_type": "code",
   "execution_count": 32,
   "metadata": {},
   "outputs": [],
   "source": [
    "from wordcloud import WordCloud, STOPWORDS\n",
    "from PIL import Image\n",
    "import numpy as np\n",
    "import urllib\n",
    "import requests\n",
    "import matplotlib.pyplot as plt\n",
    "mask = np.array(Image.open(requests.get('http://www.clker.com/cliparts/e/4/2/a/1194984465469237978slim_cell_phone_israel_c_01.svg.med.png', stream=True).raw))"
   ]
  },
  {
   "cell_type": "code",
   "execution_count": 39,
   "metadata": {},
   "outputs": [],
   "source": [
    "#WordCloud Function for Positive and Negative Reviews \n",
    "def generate_wordcloud(text, mask):\n",
    "    word_cloud = WordCloud(width = 400, height = 800, background_color='black', stopwords=STOPWORDS, mask=mask).generate(text)\n",
    "    plt.figure(figsize=(10,8),facecolor = 'white', edgecolor='blue')\n",
    "    plt.imshow(word_cloud)\n",
    "    plt.axis('off')\n",
    "    plt.tight_layout(pad=0)\n",
    "    plt.show()"
   ]
  },
  {
   "cell_type": "code",
   "execution_count": 40,
   "metadata": {},
   "outputs": [
    {
     "data": {
      "image/png": "[encoded data removed]",
      "text/plain": [
       "<Figure size 720x576 with 1 Axes>"
      ]
     },
     "metadata": {},
     "output_type": "display_data"
    }
   ],
   "source": [
    "generate_wordcloud(text, mask)"
   ]
  },
  {
   "cell_type": "code",
   "execution_count": 47,
   "metadata": {},
   "outputs": [],
   "source": [
    "#Negative Reviews\n",
    "negative = df[df['sentiment']==0]['clean_reviews']"
   ]
  },
  {
   "cell_type": "code",
   "execution_count": 49,
   "metadata": {},
   "outputs": [],
   "source": [
    "negcontent = negative.to_string()"
   ]
  },
  {
   "cell_type": "code",
   "execution_count": 50,
   "metadata": {},
   "outputs": [
    {
     "data": {
      "image/png": "[encoded data removed]",
      "text/plain": [
       "<Figure size 720x576 with 1 Axes>"
      ]
     },
     "metadata": {},
     "output_type": "display_data"
    }
   ],
   "source": [
    "generate_wordcloud(negcontent, mask)"
   ]
  }
 ],
 "metadata": {
  "kernelspec": {
   "display_name": "Python 3",
   "language": "python",
   "name": "python3"
  },
  "language_info": {
   "codemirror_mode": {
    "name": "ipython",
    "version": 3
   },
   "file_extension": ".py",
   "mimetype": "text/x-python",
   "name": "python",
   "nbconvert_exporter": "python",
   "pygments_lexer": "ipython3",
   "version": "3.7.1"
  }
 },
 "nbformat": 4,
 "nbformat_minor": 2
}
